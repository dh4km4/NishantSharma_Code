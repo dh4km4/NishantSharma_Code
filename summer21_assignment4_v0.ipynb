{
 "cells": [
  {
   "cell_type": "markdown",
   "metadata": {
    "ExecuteTime": {
     "end_time": "2019-06-20T17:17:25.168179Z",
     "start_time": "2019-06-20T17:17:24.986130Z"
    },
    "id": "Hjp__3bRh42K",
    "run_control": {
     "frozen": false,
     "read_only": false
    }
   },
   "source": [
    "## Summer 2021 CS4641 B Assignment 4\n",
    "\n",
    "## Instructor: Rodrigo Borela Valente\n",
    "\n",
    "## Deadline: July 26th, Monday, 11:59 pm\n",
    "\n",
    "* Submissions will be accepted until July 28th, Wednesday, 11:59pm \n",
    "\n",
    "* No unapproved extension of the deadline is allowed. Submissions after July 28th, 11:59 pm will lead to 0 credit.\n",
    "\n",
    "* Discussion is encouraged on Piazza as part of the Q/A. However, all assignments should be done individually.\n"
   ]
  },
  {
   "cell_type": "markdown",
   "metadata": {
    "id": "wSJJRXYL2yOY"
   },
   "source": [
    "## Instructions for the assignment\n",
    "\n",
    "- In this assignment, we have programming and writing questions. Programming questions are marked with **[P]** and writing questions are marked with **[W]**.\n",
    "\n",
    "- The Q4 is bonus.\n",
    "\n",
    "- You can directly type the Latex equations in the markdown cells.\n",
    "\n",
    "- Typing with Latex/Markdown is required for all the written questions. Handwritten answers will not be accepted."
   ]
  },
  {
   "cell_type": "markdown",
   "metadata": {
    "id": "nN-9x-Qm2yOY"
   },
   "source": [
    "### Using the autograder\n",
    "\n",
    "- You will find four assignments on Gradescope that correspond to \"A4 Programming\" and \"A4 Written\", which add to 125 pts and \"A4 Programming Bonus\" worth 12.5 pts.\n",
    "\n",
    "- For \"A4 Programming\" you will submit your code in the following files:\n",
    "    * random_forest.py\n",
    "    * nn.py\n",
    "        \n",
    "- For \"A4 Programming Bonus\" you will submit your code in the following files:\n",
    "    * cartpole_nn.py\n",
    "\n",
    "- You are allowed to make as many submissions until the deadline as you like. Additionally, note that the autograder tests each function separately, therefore it can serve as a useful tool to help you debug your code if you are not sure of what part of your implementation might have an issue.\n",
    "\n",
    "- For the \"A4 Written\" part, you will create a pdf (as was done for the theory portion of assignment 1, 2 and 3) and submit it on Gradescope.\n",
    "\n",
    "- When submitting your assignment, you must **correctly map pages** of your PDF to each question/subquestion where they appear. Improperly mapped questions may not be graded correctly."
   ]
  },
  {
   "cell_type": "markdown",
   "metadata": {
    "id": "7U0WVt07tGRv"
   },
   "source": [
    "# Environment Setup"
   ]
  },
  {
   "cell_type": "code",
   "execution_count": null,
   "metadata": {
    "id": "o0Ui6T2as9iI",
    "scrolled": true
   },
   "outputs": [],
   "source": [
    "import numpy as np\n",
    "from collections import Counter\n",
    "from scipy import stats\n",
    "from math import log2, sqrt\n",
    "import pandas as pd\n",
    "import time\n",
    "from sklearn.model_selection import train_test_split\n",
    "\n",
    "from sklearn.datasets import make_circles\n",
    "from sklearn.datasets import make_blobs \n",
    "from sklearn.model_selection import train_test_split\n",
    "from sklearn.metrics import accuracy_score\n",
    "from sklearn.utils import shuffle\n",
    "from matplotlib import pyplot as plt\n",
    "\n",
    "from sklearn.datasets import load_breast_cancer, load_boston\n",
    "from sklearn.preprocessing import MinMaxScaler\n",
    "from sklearn.metrics import classification_report\n",
    "\n",
    "%load_ext autoreload\n",
    "%autoreload 2"
   ]
  },
  {
   "cell_type": "markdown",
   "metadata": {
    "id": "8aGIzP6dtY-Y"
   },
   "source": [
    "## 1. Random Forests [40pts] <span style=\"color:green\">[30P] + [10W]<span>\n",
    "\n",
    "The decision boundaries drawn by decision trees are very sharp, and fitting a decision tree of unbounded depth to a dataset almost inevitably leads to **overfitting**. In an attempt to decrease the variance of our classifier we're going to use a technique called 'Bootstrap Aggregating' (often abbreviated 'bagging'). This stems from the idea that a collection of weak learners can learn decision boundaries as well as a strong learner."
   ]
  },
  {
   "cell_type": "markdown",
   "metadata": {
    "id": "5zP6DnH62yO9"
   },
   "source": [
    "### 1.1 Random Forest Implementation [20pts] <span style=\"color:green\">[P]<span>\n",
    "\n",
    "\n",
    "A Random Forest is a collection of decision trees, built as follows:\n",
    "\n",
    "  1. For every tree we're going to build:\n",
    "\n",
    "  a. Subsample the examples with replacement. Note that in this question, the size of the subsample data is equal to the original dataset. \n",
    "    \n",
    "  b. From the subsamples in (a), choose attributes at random to learn on in accordance with a provided feature subsampling rate (e.g. for a dataset originally containing 8 features, a subsampling rate of 70% means you will get 5 features).\n",
    "    \n",
    "  c. Fit a decision tree to the subsample of instances and feature we've chosen to a certain depth.\n",
    "    \n",
    "Classification for a random forest is then done by taking a majority vote of the classifications yielded by each tree in the forest after it classifies an example.\n",
    "\n",
    "In RandomForests Class, \n",
    "1. X is assumed to be a matrix with num_training rows and num_features columns where num_training is the\n",
    "number of total records and num_features is the number of features of each record. \n",
    "\n",
    "2. y is assumed to be a vector of labels of length num_training.\n",
    "\n",
    "**NOTE:** Lookout for TODOs for the parts that needs to be implemented.\n",
    "    \n",
    "Code for submitting to autograder must be in **random_forest.py**."
   ]
  },
  {
   "cell_type": "code",
   "execution_count": null,
   "metadata": {
    "id": "6n8GGVU7tYGh"
   },
   "outputs": [],
   "source": [
    "import numpy as np\n",
    "import sklearn\n",
    "from sklearn.tree import DecisionTreeClassifier\n",
    "import matplotlib.pyplot as plt\n",
    "\n",
    "class RandomForest(object):\n",
    "    def __init__(self, n_estimators=4, max_depth=4, feat_sample_rate=0.1):\n",
    "        # helper function. You don't have to modify it\n",
    "        # Initialization done here\n",
    "        self.n_estimators = n_estimators    # number of trees in the forest\n",
    "        self.max_depth = max_depth          # maximum depth a tree can take\n",
    "        self.feat_sample_rate = feat_sample_rate    # feature sub sample rate\n",
    "        self.bootstraps_row_indices = []    # subsampled row indices\n",
    "        self.feature_indices = []           # indices of subsampled features\n",
    "        self.out_of_bag = []\n",
    "        self.decision_trees = [sklearn.tree.DecisionTreeClassifier(max_depth=max_depth, criterion='entropy') for i in range(n_estimators)]  # list containing sklearn decision trees objects\n",
    "        \n",
    "    def _bootstrapping(self, num_training, num_features): # [10 pts]\n",
    "        \"\"\"\n",
    "        TODO: \n",
    "        - Randomly select a sample dataset of size num_training **with** replacement from the original dataset. \n",
    "        - Randomly select certain number of features (num_features denotes the total number of features in X, \n",
    "          feat_sample_rate denotes the percentage of features that are used to fit each decision tree) **without** replacement from the total number of features.\n",
    "        \n",
    "        Return:\n",
    "        - row_idx: the row indices corresponding to the row locations of the selected samples in the original dataset.\n",
    "        - col_idx: the column indices corresponding to the column locations of the selected features in the original feature list.\n",
    "        \n",
    "        Reference: https://en.wikipedia.org/wiki/Bootstrapping_(statistics)\n",
    "        \n",
    "        Hint: Consider using np.random.choice.\n",
    "        \"\"\"\n",
    "        \n",
    "        #  Delete this line when you implement the function\n",
    "        raise NotImplementedError\n",
    "         \n",
    "    def bootstrapping(self, num_training, num_features):\n",
    "        # helper function. You don't have to modify it\n",
    "        # Initializing the bootstap datasets for each tree\n",
    "        for i in range(self.n_estimators):\n",
    "            total = set(list(range(num_training)))\n",
    "            row_idx, col_idx = self._bootstrapping(num_training, num_features)\n",
    "            total = total - set(row_idx)\n",
    "            self.bootstraps_row_indices.append(row_idx)\n",
    "            self.feature_indices.append(col_idx)\n",
    "            self.out_of_bag.append(total)\n",
    "\n",
    "    def fit(self, X, y): # [10 pts]\n",
    "        \"\"\"\n",
    "        TODO:\n",
    "        Train decision trees using the bootstrapped datasets.\n",
    "        Note that you need to use the row indices and column indices.\n",
    "        \n",
    "        X: NxD numpy array, where N is number \n",
    "           of instances and D is the dimensionality of each \n",
    "           instance\n",
    "        y: Nx1 numpy array, the corresponding target labels\n",
    "\n",
    "        Return:\n",
    "            None. Calling this function should simply train the tree objects\n",
    "            contained in self.decision_trees with your bootstrapped data.\n",
    "        \"\"\"\n",
    "        \n",
    "        #  Delete this line when you implement the function\n",
    "        raise NotImplementedError\n",
    "\n",
    "    def OOB_score(self, X, y):\n",
    "        # helper function. You don't have to modify it\n",
    "        # This function computes the accuracy of the random forest model predicting y given x.\n",
    "        accuracy = []\n",
    "        for i in range(len(X)):\n",
    "            predictions = []\n",
    "            for t in range(self.n_estimators):\n",
    "                if i in self.out_of_bag[t]:\n",
    "                    predictions.append(self.decision_trees[t].predict(np.reshape(X[i][self.feature_indices[t]], (1,-1)))[0])\n",
    "            if len(predictions) > 0:\n",
    "                accuracy.append(np.sum(predictions == y[i]) / float(len(predictions)))\n",
    "        return np.mean(accuracy)"
   ]
  },
  {
   "cell_type": "markdown",
   "metadata": {
    "id": "BlxXUpNE2yPA"
   },
   "source": [
    "### 1.2 Hyperparameter tuning [10pts] <span style=\"color:green\">[P]<span>\n",
    "\n",
    "In machine learning, hyperparameters are parameters that are set before the learning process begins. The max_depth, num_estimators, or feat_sample_rate variables from 1.1 are examples of different hyperparameters for a random forest model. In this question you will tune the hyperparameters for the following task.\n",
    "\n",
    "#### Problem description\n",
    "Imagine that we are doctors working on a cure for heart disease by using machine learning to categorize patients. We know that narrowing arteries are an early indicator of disease. We are tasked with the responsibility of coming up with a method for determining the likelihood of patient having narrowing arteries. We will then use this information to decide which patients to run further tests on for treatment.\n",
    "\n",
    "After much deliberation amongst the team, you come to a conclusion that we can use past patient data to predict the future occurence of disease.\n",
    "\n",
    "We will use our random forest algorithm from Q1.1 to predict if a patient may have indicators of heart disease.\n",
    "\n",
    "You can find more information on the dataset [here](https://archive.ics.uci.edu/ml/datasets/heart+disease).\n",
    "\n",
    "#### Loading the dataset\n",
    "The dataset that has beeb collected has the following features:\n",
    "\n",
    "Only 13 used out of a potential 76\n",
    "\n",
    "Inputs:\n",
    "\n",
    "  1. (age)\n",
    "  2. (type)\n",
    "  3. (cp) chest pain type\n",
    "  4. (trestbps) resting blood pressure (in mm Hg on admission to the hospital)\n",
    "  5. (chol) serum cholestoral in mg/dl\n",
    "  6. (fbs) (fasting blood sugar > 120 mg/dl) (1 = true; 0 = false)\n",
    "  7. (restecg) resting electrocardiographic results:\n",
    "    -  Value 0: normal\n",
    "    - Value 1: having ST-T wave abnormality (T wave inversions and/or ST elevation or depression of > 0.05 mV)\n",
    "    - Value 2: showing probable or definite left ventricular hypertrophy by Estes' criteria\n",
    "  8. (thalach) maximum heart rate achieved\n",
    "  9. (exang) exercise induced angina (1 = yes; 0 = no)\n",
    "  10. (oldpeak) ST depression induced by exercise relative to rest\n",
    "  11. (slope) the slope of the peak exercise ST segment\n",
    "    - Value 1: upsloping\n",
    "    - Value 2: flat\n",
    "    - Value 3: downsloping\n",
    "  12. (ca) number of major vessels (0-3) colored by flourosopy\n",
    "  13. (thal) 3 = normal; 6 = fixed defect; 7 = reversable defect\n",
    "\n",
    "Output:\n",
    "\n",
    "  1. (num) target value:\n",
    "    - 0, corresponds to less than 50% chance of narrowing arteries\n",
    "    - 1, corresponds to more than 50% chance of narrowing arteries\n",
    "    \n",
    "Your random forest model will try to predict this variable."
   ]
  },
  {
   "cell_type": "code",
   "execution_count": null,
   "metadata": {
    "id": "X0HY9MDmx7At"
   },
   "outputs": [],
   "source": [
    "# Logic for loading in datasets. DO NOT MODIFY anything in this block.\n",
    "\n",
    "#This is a Helper cell. DO NOT MODIFY CODE IN THIS CELL\n",
    "from sklearn import preprocessing\n",
    "import pandas as pd\n",
    "preprocessor = preprocessing.LabelEncoder()\n",
    "\n",
    "data_train = pd.read_csv(\"heart_disease_cleaveland_train.csv\")\n",
    "data_test = pd.read_csv(\"heart_disease_cleaveland_test.csv\")\n",
    "\n",
    "X_train = data_train.drop(columns = 'num')\n",
    "y_train = data_train['num']\n",
    "y_train = y_train.to_numpy()\n",
    "y_train[y_train > 1] = 1\n",
    "X_test = data_test.drop(columns = 'num')\n",
    "X_test = np.array(X_test)\n",
    "y_test = data_test['num']\n",
    "y_test = y_test.to_numpy()\n",
    "y_test[y_test > 1] = 1\n",
    "#y_test = np.array()\n",
    "X_train, y_train, X_test, y_test = np.array(X_train), np.array(y_train), np.array(X_test), np.array(y_test)"
   ]
  },
  {
   "cell_type": "code",
   "execution_count": null,
   "metadata": {
    "id": "AC1-lWuct2wj"
   },
   "outputs": [],
   "source": [
    "\"\"\"\n",
    "TODO: \n",
    "n_estimators defines how many decision trees are fitted for the random forest (at least 10). \n",
    "max_depth defines a stop condition when the tree reaches to a certain depth.\n",
    "feat_sample_rate controls the percentage of features that are used to fit each decision tree.\n",
    "\n",
    "Tune these three parameters to achieve a better accuracy. You will need to obtain 75% on the \n",
    "train set to receive full credit.\n",
    "\"\"\"\n",
    "\n",
    "# Hint: the range of n_estimators should be from 8 to 12.\n",
    "#       the range of max_depth should be from 3 to 5\n",
    "#       the range of feat_sample_rate should be from 0.85 to 0.95\n",
    "# Feel free to explore more!\n",
    "\n",
    "n_estimators = 8\n",
    "max_depth = 2\n",
    "feat_sample_rate = 0.8\n",
    "\n",
    "# To submit these values for autograder test update the corresponding parameters\n",
    "# in the init function of the RandomForest class and submit.\n",
    "\n",
    "random_forest = RandomForest(n_estimators, max_depth, feat_sample_rate)\n",
    "random_forest.fit(X_train, y_train)\n",
    "accuracy=random_forest.OOB_score(X_test, y_test)\n",
    "    \n",
    "print(\"accuracy: %.4f\" % accuracy)"
   ]
  },
  {
   "cell_type": "markdown",
   "metadata": {
    "id": "egEd2y89x7Av"
   },
   "source": [
    "### 1.3 Plotting Feature Importance [10pts] <span style=\"color:green\">[W]<span>"
   ]
  },
  {
   "cell_type": "markdown",
   "metadata": {
    "id": "lMohcM36x7Aw"
   },
   "source": [
    "While building tree-based models, it's common to quantify how well splitting on a particular feature in a decision tree helps with predicting the target label in a dataset. Machine learning practicioners typically use \"Gini importance\", or the (normalized) total reduction in entropy brought by that feature to evaluate how important that feature is for predicting the target variable.\n",
    "\n",
    "Gini importance is typically calculated as the reduction in entropy from reaching a split in a decision tree weighted by the probability of reaching that split in the decision tree. Sklearn internally computes the probability for reaching a split by finding the total number of samples that reaches it during the training phase divided by the total number of samples in the dataset. This weighted value is our feature importance.\n",
    "\n",
    "Let's think about what this metric means with an example. A high probabiity of reaching a split on \"Age\" in a decision tree trained on our patient dataset (many samples will reach this split for a decision) and a large reduction in entropy from splitting on \"Age\" will result in a high feature importance value for \"Age\". This could mean \"Age\" is a very important feature for predicting a patients probability of disease. On the other hand, a low probability of reaching a split on \"Cholesterol (chol)\" in a decision tree (few samples will reach this split for a decision) and a low reduction in entropy from splitting on \"Cholesterol (chol)\" will result in a low feature importance value. This could mean \"Cholesterol (chol)\" is not a very informative feature for predicting a patients probability of disease in our decision tree. **Thus, the higher the feature importance value, the more important the feature is to predicting the target label.**\n",
    "\n",
    "Fortunately for us, fitting a **sklearn.DecisionTreeClassifier** to a dataset automatically computes the Gini importance for every feature in the decision tree and stores these values in a [**featureimportances**](https://scikit-learn.org/stable/modules/generated/sklearn.tree.DecisionTreeClassifier.html?highlight=feature_importances_#sklearn.tree.DecisionTreeClassifier.feature_importances_) variable. Review the docs for more details on how to access this variable\n",
    "\n",
    "In the function below, display a bar plot that shows the feature importance values for at least one decision tree in your tuned random forest from Q1.2, and briefly comment on whether any features have noticeably higher / or lower importance weights than others. *[Note that there isn't a \"correct\" answer here. We simply want you to investigate how different features in your random forest contribute to predicting the target variable].*"
   ]
  },
  {
   "cell_type": "code",
   "execution_count": null,
   "metadata": {
    "id": "qKw4BXPFx7Ax",
    "outputId": "d86ab75d-3983-4703-d738-d87ac1b6c524"
   },
   "outputs": [
    {
     "data": {
      "image/png": "[encoded data removed]",
      "text/plain": [
       "<Figure size 1044x576 with 7 Axes>"
      ]
     },
     "metadata": {
      "needs_background": "light",
      "tags": []
     },
     "output_type": "display_data"
    }
   ],
   "source": [
    "def plot_feature_importance(self, data_train):\n",
    "    \"\"\"\n",
    "    TODO:\n",
    "    -Display a bar plot showing the feature importance of every feature in \n",
    "    at least one decision tree from the tuned random_forest.\n",
    "\n",
    "    Args:\n",
    "        data_train: This is the orginal data train Dataframe containg data AND labels.\n",
    "            Hint: you can access labels with data_train.columns (https://pandas.pydata.org/pandas-docs/stable/user_guide/indexing.html)\n",
    "    Returns:\n",
    "        None. Calling this function should simply display the aforementioned feature importance bar chart\n",
    "    \"\"\"\n",
    "\n",
    "plot_feature_importance(data_train)"
   ]
  },
  {
   "cell_type": "markdown",
   "metadata": {
    "id": "nzTpOTa3x7Ay"
   },
   "source": [
    "## 2. SVM [30 Pts] <span style=\"color:green\">[W]</span>"
   ]
  },
  {
   "cell_type": "markdown",
   "metadata": {
    "id": "kqfEnSgcx7Az"
   },
   "source": [
    "### 2.1 Fitting a SVM classifier by hand [14 Pts]  <span style=\"color:green\">[W]</span>\n",
    "\n",
    "You are given the following data set (see code block below) from a single feature $X$ and corresponding label $Y \\in \\{-1, 1\\}$:\n",
    " \n",
    "Consider mapping each point to 2-dimensional space using the feature map $h(x) = [x, x^2]$. The max margin classifier has the form:\n",
    " \n",
    "$$\\min ||\\mathbf{w}||^2 $$\n",
    " \n",
    "$$s.t.$$\n",
    " \n",
    "$$y_i(\\mathbf{w}^T \\phi(x_i) + b) ≥ 1 \\text{  for all } i$$\n",
    "\n",
    "**Hint:** You can use the code block below to modify the data and identify the support vectors. Once you have that information, you only need to calculate back the parameters. Margin is equal to $\\frac{1}{||\\mathbf{w}||}$ and half margin is equal to $\\frac{2}{||\\mathbf{w}||}$.\n",
    "\n",
    "(1) Are the data points in the 1-D space linearly seperable? Why or why not? (2pts)\n",
    "\n",
    "(2) Are the data points in the linearly seperable after applying the kernel? Why or why not? (2pts)\n",
    "\n",
    "(3) Find a vector parallel to the optimal vector $\\mathbf{w}$. (2pts)\n",
    " \n",
    "(4) Calculate the value of the margin achieved by this $\\mathbf{w}$? (2pts)\n",
    " \n",
    "(5) Solve for $\\mathbf{w}$, given that the margin is equal to $1/||\\mathbf{w}||$. (2pts)\n",
    " \n",
    "(6) Solve for $b$ using your value for $\\mathbf{w}$. (2pts)\n",
    " \n",
    "(7) Write down the form of the discriminant function $f(x) = \\mathbf{w}^T\\phi(x)+b$ as an explicit function of $x$. (2pts)"
   ]
  },
  {
   "cell_type": "code",
   "execution_count": null,
   "metadata": {
    "colab": {
     "base_uri": "https://localhost:8080/",
     "height": 297
    },
    "id": "E7mNvM8pZ7WU",
    "outputId": "095a6d70-13a9-4e0e-b631-cde7848f85fe"
   },
   "outputs": [
    {
     "data": {
      "text/plain": [
       "Text(0.5, 0, 'x')"
      ]
     },
     "execution_count": 19,
     "metadata": {
      "tags": []
     },
     "output_type": "execute_result"
    },
    {
     "data": {
      "image/png": "[encoded data removed]",
      "text/plain": [
       "<Figure size 432x288 with 1 Axes>"
      ]
     },
     "metadata": {
      "needs_background": "light",
      "tags": []
     },
     "output_type": "display_data"
    }
   ],
   "source": [
    "# DATASET FOR 2.1\n",
    "\n",
    "X = np.array([-3, -2, -1, 0, 1, 3])\n",
    "Y = np.array([1, 1, -1, -1, -1, 1])\n",
    "\n",
    "fig, ax = plt.subplots()\n",
    "ax.scatter(X[Y<0], np.zeros(X[Y<0].shape), marker='o', color = 'blue', s = 100)\n",
    "ax.scatter(X[Y>0], np.zeros(X[Y>0].shape), marker='x', color='magenta', s = 100)\n",
    "ax.yaxis.set_visible(False)\n",
    "plt.xlabel('x')"
   ]
  },
  {
   "cell_type": "markdown",
   "metadata": {
    "id": "Ys0RSvC8x7A0"
   },
   "source": [
    "### 2.2 SVM Kernels [16 Pts]  <span style=\"color:green\">[W]</span>\n",
    "\n",
    "(1) (8 points) Given valid kernels $k_1(\\mathbf{x}, \\mathbf{x}')$ and $k_2(\\mathbf{x}, \\mathbf{x}')$, prove that the following new kernels will also\n",
    "be valid: \n",
    " \n",
    "a. $K(\\mathbf{x}, \\mathbf{z}) = k_1(f(\\mathbf{x}), f(\\mathbf{z})), where f: X → X $   \n",
    " \n",
    "b. $K(\\mathbf{x}, \\mathbf{z}) = k_1(\\mathbf{x}, \\mathbf{z}) + k_2(\\mathbf{x}, \\mathbf{z})$  \n",
    " \n",
    "(2) (8 points)  \n",
    "a. Consider the polynomial kernel $$K(\\mathbf{x}, \\mathbf{y}) = (\\mathbf{x}^T\\mathbf{y})^q$$ with q=2. Let $\\mathbf{x}, \\mathbf{y} \\in R^3$ for simplicity. Define one calculation as one multiplication, addition or square operation. Assume that constants (like $\\sqrt{2}$) are already calculated and given. Count the calculations after simplifying the terms.\n",
    " \n",
    "a. What is the number of calculations required to find $K(\\mathbf{x}, \\mathbf{y})$ through direct computation?  (2 points)  \n",
    "b. Can you find the corresponding feature mapping $\\phi(\\mathbf{x})$?   (2 points)  \n",
    "c. What is the number of calculations required for calculating the above feature map for a scalar $x$ ?   (2 points)  \n",
    "d. What is the number of calculations to find $K(\\mathbf{x}, \\mathbf{y})$ using $\\phi(\\mathbf{x})^T \\phi(\\mathbf{y})$? Comment on this with respect to your answer in (a).   (2 points) \n",
    "\n",
    "\n"
   ]
  },
  {
   "cell_type": "markdown",
   "metadata": {
    "id": "V-OtSbdzx7A1"
   },
   "source": [
    "## 3. Two Layer Neural Network [55 pts]  <span style=\"color:green\">[P]</span>"
   ]
  },
  {
   "cell_type": "markdown",
   "metadata": {
    "id": "l-wNxXBAx7A2"
   },
   "source": [
    "In neural networks, a neuron corresponds to a unit that outputs: $$z_{i} = h \\left( \\sum \\limits_{j=1}^{n} w_{ij}x_{j}+b_{i} \\right) = h(\\mathbf{w}_{i}^{T}\\mathbf{x}+b_{i})$$ where $\\mathbf{w}_{i} \\in R^{D}$ is the weight vector, $\\mathbf{x} \\in R^{D}$ is ONE data point with $D$ features, $b_{i} \\in R$ is the bias element, and $h(.)$ is any non linear function that will be described later. \n",
    "\n",
    "### Fully-connected Layer\n",
    "Typically, a modern neural network contains thousands of neurons. Neurons interact in different configurations. In this part we describe a fully connected layer configuration in a neural network, which uses parallel neurons to form a layer.\n",
    "\n",
    "We extend the previous notation to describe a fully connected layer as follows\n",
    "$$\\mathbf{z} = h(\\mathbf{a}), \\quad \\mathbf{a}=\\mathbf{W}\\mathbf{x}+\\mathbf{b}$$ where $\\mathbf{a} \\in R^{M}$ is the output vector after appling linear operations, $\\mathbf{W} \\in R^{M \\times N}$ is the weight matrix, and $\\mathbf{b} \\in R^{M}$ is the bias vector. \n",
    "\n",
    "Therefore, we can use the neuron layer to update the data signal. The whole operation can be summarized as,\n",
    "$$\\mathbf{z}^{[l]} = h(\\mathbf{W}\\mathbf{z}^{[l-1]}+\\mathbf{b}) $$ where $\\mathbf{z}^{[l-1]}$ is the output of the previous layer as shown in figure below. Since we are going to build a two layer neural network model, $l \\in \\{1, 2\\}$ in this problem.\n",
    "\n",
    "\n",
    "### Activation Function\n",
    "There are many kinds of activation function. For this question, we are going to use Relu and Sigmoid.\n",
    "#### ReLU\n",
    "The Rectified Linear Unit (ReLU) is one of the most commonly used activation function in neural network models. The function is $h(a)=max(0,a)$. ReLU shares a lot of the properties of linear functions and it tends to work well on most of the problems. The only issue is that the derivative is not defined at a = 0, which we can overcome by assigning the derivative to 0 at a = 0. However, this means that for a ≤ 0 the gradient is zero and again can’t learn.\n",
    "#### Sigmoid\n",
    "The sigmoid function is another non-linear function with S-shaped curve. This function is useful in the case of binary classification as its output is between 0 and 1. The mathematical form of the function is $h(a)=\\frac{1}{1+e^{-a}}$. One of the main disadvantages for using the sigmoid function on hidden layers is that the gradient is very close to zero over a large portion of its domain which makes it slow and harder for the learning algorithm to learn.\n",
    "\n",
    "![Relu](https://drive.google.com/uc?id=10g4b7WTbt9Y9QQQ9EJhiqXhQvfEpiXLe)\n",
    "\n",
    "### Mean Squared Error\n",
    "It is an estimator that measures the average of the squares of the errors i.e. the average squared difference between the actual and the estimated values. It estimates the quality of the learnt hypothesis between the actual and the predicted values. It's non-negative and closer to zero, the better the learnt function is.\n",
    "\n",
    "#### Implementation details\n",
    "For regression problems as in this exercise, we compute the loss as follows:\n",
    "\n",
    "$$E = \\frac{1}{2N}\\sum\\limits_{i=1}^{N}\\left(y_{i} - \\hat{y_{i}}\\right)^{2}$$\n",
    "\n",
    "where $y_{i}$ is the true label and $\\hat{y_{i}}$ is the estimated label. We use a factor of $\\frac{1}{2N}$ instead of $\\frac{1}{N}$ to simply the derivative of loss function.\n",
    "\n",
    "### Forward Propagation\n",
    "We start by intializing the weights of the fully connected layer using Xavier initialization [Xavier initialization](http://proceedings.mlr.press/v9/glorot10a/glorot10a.pdf). During training we pass all the data points through the network layer by layer.\n",
    "$$\\begin{eqnarray}\n",
    "\\mathbf{z}^{[0]} &=& \\mathbf{x}\\\\\n",
    "\\mathbf{a}^{[1]}&=& \\mathbf{W}^{[1]}\\mathbf{z}^{[0]}+\\mathbf{b}^{[1]} \\\\\n",
    "\\mathbf{z}^{[1]}&=& Relu(\\mathbf{a}^{[1]}) \\\\\n",
    "\\mathbf{a}^{[2]}&=& \\mathbf{W}^{[2]}\\mathbf{z}^{[1]}+\\mathbf{b}^{[2]} \\\\\n",
    "\\hat{y}=\\mathbf{z}^{[2]}&=& Sigmoid(\\mathbf{a}^{[2]}) \\\\\n",
    "\\end{eqnarray}$$\n",
    "\n",
    "Then we get the output and compute the loss $$E = \\frac{1}{2N}\\sum\\limits_{i=1}^{N}\\left(y_{i} - \\hat{y_{i}}\\right)^{2}$$\n",
    "\n",
    "### Backward propagation\n",
    "After the forward pass, we do back propagation to update the weights and biases in the direction of the negative gradient of the loss function. So we update the weights and biases using the following formulas\n",
    "\\begin{equation}\n",
    "\\mathbf{W}^{[2]} := \\mathbf{W}^{[2]} - \\eta \\times \\frac{\\partial E}{\\partial \\mathbf{W}^{[2]}} \\\\\n",
    "\\mathbf{b}^{[2]} := \\mathbf{b}^{[2]} - \\eta \\times \\frac{\\partial E}{\\partial \\mathbf{b}^{[2]}} \\\\\n",
    "\\mathbf{W}^{[1]} := \\mathbf{W}^{[1]} - \\eta \\times \\frac{\\partial E}{\\partial \\mathbf{W}^{[1]}} \\\\\n",
    "\\mathbf{b}^{[1]} := \\mathbf{b}^{[1]} - \\eta \\times \\frac{\\partial E}{\\partial \\mathbf{b}^{[1]}}\n",
    "\\end{equation}\n",
    "where $\\eta$ is the learning rate. \n",
    "\n",
    "\n",
    "\n",
    "To compute the terms $\\frac{\\partial E}{\\partial \\mathbf{W}^{[i]}}$ and $ \\frac{\\partial E}{\\partial \\mathbf{b}^{[i]}}$ \n",
    "we use chain rule:\n",
    "\n",
    "\n",
    "\\begin{eqnarray}\n",
    "\\frac{\\partial E}{\\partial \\mathbf{W}^{[2]}}&=&\\frac{\\partial E}{\\partial \\mathbf{z}^{[2]}}\\frac{\\partial \\mathbf{z}^{[2]}}{\\partial \\mathbf{a}^{[2]}}\\frac{\\partial \\mathbf{a}^{[2]}}{\\partial \\mathbf{W}^{[2]}} \\\\\n",
    "\\frac{\\partial E}{\\partial \\mathbf{b}^{[2]}}&=&\\frac{\\partial E}{\\partial \\mathbf{z}^{[2]}}\\frac{\\partial \\mathbf{z}^{[2]}}{\\partial \\mathbf{a}^{[2]}}\\frac{\\partial \\mathbf{a}^{[2]}}{\\partial \\mathbf{b}^{[2]}}\n",
    "\\end{eqnarray}\n",
    "\n",
    "\n",
    "$\\frac{\\partial E}{\\partial \\mathbf{z}^{[2]}}$ is the differentiation of the MSE function at point $\\mathbf{z}^{[2]}$, \n",
    "\n",
    "$\\frac{\\partial \\mathbf{z}^{[2]}}{\\partial \\mathbf{a}^{[2]}}$ is the differentiation of the Sigmoid function at point $\\mathbf{a}^{[2]}$, $\\frac{\\partial\\mathbf{a}^{[2]}}{\\partial\\mathbf{W}^{[2]}}$ is equal to $\\mathbf{z}^{[1]}$, and \n",
    "\n",
    "$\\frac{\\partial \\mathbf{a}^{[2]}}{\\partial \\mathbf{b}^{[2]}}$ is equal to $1$.\n",
    "\n",
    "To compute $\\frac{\\partial E}{\\partial \\mathbf{W}^{[2]}}$, we need $\\mathbf{z}^{[2]}, \\mathbf{a}^{[2]}, \\mathbf{z}^{[1]}$ calculated during forward propagation. Therefore, we need to store these values during the forward propagation to be able to access them during backward propagation. The functional form of the MSE differentiation and Sigmoid differentiation are given by \n",
    "\\begin{eqnarray}\n",
    "\\frac{\\partial E}{\\partial \\mathbf{z}^{[2]}} &=& \\frac{-1}{N}(y-\\hat{y}) \\\\\n",
    "\\frac{\\partial \\mathbf{z}^{[2]}}{\\partial \\mathbf{a}^{[2]}} &=& \\frac{1}{1+e^{-\\mathbf{a}^{[2]}}} \\left(1- \\frac{1}{1+e^{-\\mathbf{a}^{[2]}}} \\right) \\\\\n",
    "\\frac{\\partial \\mathbf{a}^{[2]}}{\\partial \\mathbf{W}^{[2]}} &=& \\mathbf{z}^{[1]} \\\\\n",
    "\\frac{\\partial \\mathbf{a}^{[2]}}{\\partial \\mathbf{b}^{[2]}} &=& 1\n",
    "\\end{eqnarray}\n",
    "\n",
    "Similarly,\n",
    "\\begin{eqnarray}\n",
    "\\frac{\\partial E}{\\partial \\mathbf{W}^{[1]}}&=&\\frac{\\partial E}{\\partial \\mathbf{z}^{[2]}}\\frac{\\partial \\mathbf{z}^{[2]}}{\\partial \\mathbf{a}^{[2]}}\\frac{\\partial \\mathbf{a}^{[2]}}{\\partial \\mathbf{z}^{[1]}} \\frac{\\mathbf{z}^{[1]}}{\\mathbf{a}^{[1]}} \\frac{\\mathbf{a}^{[1]}}{W^{[1]}}  \\\\\n",
    "\\frac{\\partial E}{\\partial \\mathbf{b}^{[1]}}&=&\\frac{\\partial E}{\\partial \\mathbf{z}^{[2]}}\\frac{\\partial \\mathbf{z}^{[2]}}{\\partial \\mathbf{a}^{[2]}}\\frac{\\partial \\mathbf{a}^{[2]}}{\\partial \\mathbf{z}^{[1]}} \\frac{\\mathbf{z}^{[1]}}{\\mathbf{a}^{[1]}} \\frac{\\mathbf{a}^{[1]}}{b^{[1]}}\n",
    "\\end{eqnarray}\n",
    "\n",
    "Where \n",
    "\\begin{eqnarray}\n",
    "\\frac{\\partial \\mathbf{a}^{[2]}}{\\partial \\mathbf{z}^{[1]}} &=& W^{[1]} \\\\\n",
    "\\frac{\\partial \\mathbf{z}^{[1]}}{\\partial \\mathbf{a}^{[1]}} &=&  \n",
    "\\begin{cases}\n",
    "&0& \\text{ if } \\mathbf{a}^{[1]} \\leq 0 \\\\\n",
    "&1& \\text{ if } \\mathbf{a}^{[1]} > 0 \n",
    "\\end{cases}\\\\\n",
    "\\frac{\\partial \\mathbf{a}^{[1]}}{\\partial \\mathbf{W}^{[1]}} &=& \\mathbf{x}\\\\\n",
    "\\frac{\\partial \\mathbf{a}^{[1]}}{\\partial \\mathbf{b}^{[1]}} &=& 1\n",
    "\\end{eqnarray}\n",
    "\n",
    "Note that $\\frac{\\partial \\mathbf{z}^{[1]}}{\\partial \\mathbf{a}^{[1]}}$ is the differentiation of the Relu function at $\\mathbf{a}^{[1]}$.\n",
    "\n",
    "Now, let's try to implememt this two layer neural network model!\n",
    "\n",
    "\n",
    "Code for submitting to autograder must be in **nn.py**."
   ]
  },
  {
   "cell_type": "code",
   "execution_count": null,
   "metadata": {
    "id": "v36kNltex7A4"
   },
   "outputs": [],
   "source": [
    "'''\n",
    "TODO:\n",
    "Implement the neural network methods in the dlnet class.\n",
    "\n",
    "We are going to use Breast Cancer Wisconsin (Diagnostic) Data Set provided by sklearn\n",
    "https://scikit-learn.org/stable/modules/generated/sklearn.datasets.load_breast_cancer.html\n",
    "to train a 2 fully connected layer neural net. We are going to buld the neural network from scratch. \n",
    "'''\n",
    "import numpy as np\n",
    "\n",
    "class dlnet:\n",
    "\n",
    "    def __init__(self, x, y, lr=0.003):\n",
    "        '''\n",
    "        This method initializes the class, its implemented for you.\n",
    "        Args:\n",
    "            x: data\n",
    "            y: labels\n",
    "            Yh: predicted labels\n",
    "            dims: dimensions of different layers\n",
    "            param: dictionary of different layers parameters\n",
    "            ch: Cache dictionary to store forward parameters that are used in backpropagation\n",
    "            loss: list to store loss values\n",
    "            lr: learning rate\n",
    "            sam: number of training samples we have\n",
    "\n",
    "        '''\n",
    "        self.X = x  # features\n",
    "        self.Y = y  # ground truth labels\n",
    "\n",
    "        self.Yh = np.zeros((1, self.Y.shape[1]))  # estimated labels\n",
    "        self.dims = [30, 20, 1]  # dimensions of different layers\n",
    "\n",
    "        self.param = {}  # dictionary for different layer variables\n",
    "        self.ch = {}  # cache variable\n",
    "        self.loss = []\n",
    "\n",
    "        self.lr = lr  # learning rate\n",
    "        self.sam = self.Y.shape[1]  # number of training samples we have\n",
    "        self._estimator_type = 'classifier'\n",
    "\n",
    "    def nInit(self):\n",
    "        '''\n",
    "        This method initializes the neural network variables, it's already implemented for you.\n",
    "        Check it and relate to mathematical the description above.\n",
    "        You are going to use these variables in forward and backward propagation.\n",
    "        '''\n",
    "        np.random.seed(1)\n",
    "        self.param['W1'] = np.random.randn(self.dims[1], self.dims[0]) / np.sqrt(self.dims[0])\n",
    "        self.param['b1'] = np.zeros((self.dims[1], 1))\n",
    "        self.param['W2'] = np.random.randn(self.dims[2], self.dims[1]) / np.sqrt(self.dims[1])\n",
    "        self.param['b2'] = np.zeros((self.dims[2], 1))\n",
    "        return\n",
    "\n",
    "    def Relu(self, a): # [2 points]\n",
    "        '''\n",
    "        In this method you are going to implement element wise Relu.\n",
    "        Make sure that all operations here are element wise and can be applied to an input of any dimension.\n",
    "        Input: a of any dimension\n",
    "        return: Relu(a)\n",
    "        '''\n",
    "        #  Delete this line when you implement the function\n",
    "        raise NotImplementedError\n",
    "\n",
    "\n",
    "    def Sigmoid(self, a): # [3 points]\n",
    "        '''\n",
    "        In this method you are going to implement element wise Sigmoid.\n",
    "        Make sure that all operations here are element wise and can be applied to an input of any dimension.\n",
    "        Input: a of any dimension\n",
    "        return: Sigmoid(a)\n",
    "        '''\n",
    "        #  Delete this line when you implement the function\n",
    "        raise NotImplementedError\n",
    "\n",
    "\n",
    "    def dRelu(self, a): # [5 points]\n",
    "        '''\n",
    "        In this method you are going to implement element wise differentiation of Relu.\n",
    "        Make sure that all operations here are element wise and can be applied to an input of any dimension.\n",
    "        Input: a of any dimension\n",
    "        return: dRelu(a)\n",
    "        \n",
    "        '''\n",
    "        #  Delete this line when you implement the function\n",
    "        raise NotImplementedError\n",
    "        \n",
    "\n",
    "    def dSigmoid(self, a): # [5 points]\n",
    "        '''\n",
    "        In this method you are going to implement element wise differentiation of Sigmoid.\n",
    "        Make sure that all operations here are element wise and can be applied to an input of any dimension.\n",
    "        Input: a of any dimension\n",
    "        return: dSigmoid(a)\n",
    "        '''\n",
    "        #  Delete this line when you implement the function\n",
    "        raise NotImplementedError\n",
    "\n",
    "    def nloss(self, y, yh): # [5 points]\n",
    "        '''\n",
    "        In this method you are going to implement MSE loss.\n",
    "        Refer to the description above and implement the appropriate mathematical equation.\n",
    "        Input: y 1xN: ground truth labels\n",
    "               yh 1xN: neural network output after Sigmoid\n",
    "\n",
    "        return: MSE 1x1: loss value\n",
    "        '''\n",
    "        #  Delete this line when you implement the function\n",
    "        raise NotImplementedError\n",
    "\n",
    "    def forward(self, x): # [15 points]\n",
    "        '''\n",
    "        Fill in the missing code lines, please refer to the description for more details.\n",
    "        Check nInit method and use variables from there as well as other implemeted methods.\n",
    "        Refer to the description above and implement the appropriate mathematical equations.\n",
    "        donot change the lines followed by #keep.\n",
    "        '''\n",
    "        #Todo: uncomment the following 7 lines and complete the missing code\n",
    "        \n",
    "        #self.ch['X'] = x                 X  #keep \n",
    "        #a1 =  \n",
    "        #z1 = \n",
    "        #self.ch['a1'], self.ch['z1']=a1, z1 #keep \n",
    "\n",
    "        #a2 = \n",
    "        #z2 = \n",
    "        #self.ch['a2'], self.ch['z2']=a2, z2 #keep\n",
    "        #return z2 #keep\n",
    "\n",
    "        #  Delete this line when you implement the function\n",
    "        raise NotImplementedError\n",
    "\n",
    "\n",
    "    def backward(self, y, yh): # [20 points]\n",
    "        '''\n",
    "        Fill in the missing code lines, please refer to the description for more details\n",
    "        You will need to use cache variables, some of the implemeted methods, and other variables as well\n",
    "        Refer to the description above and implement the appropriate mathematical equations.\n",
    "        do not change the lines followed by #keep.\n",
    "        \n",
    "        '''\n",
    "        #Todo: uncomment the following 13 lines and complete the missing part\n",
    "\n",
    "        # dLoss_z2 =\n",
    "        # dLoss_a2 =\n",
    "        # dLoss_W2 =\n",
    "        # dLoss_b2 =\n",
    "        # dLoss_z1 =\n",
    "        # dLoss_a1 =\n",
    "        # dLoss_W1 =\n",
    "        # dLoss_b1 =\n",
    "        # self.param[\"W2\"] = self.param[\"W2\"] - self.lr * dLoss_W2  # keep\n",
    "        # self.param[\"b2\"] = self.param[\"b2\"] - self.lr * dLoss_b2  # keep\n",
    "        # self.param[\"W1\"] = self.param[\"W1\"] - self.lr * dLoss_W1  # keep\n",
    "        # self.param[\"b1\"] = self.param[\"b1\"] - self.lr * dLoss_b1  # keep\n",
    "        #return dLoss_W2, dLoss_b2, dLoss_W1, dLoss_b1 #keep\n",
    "        \n",
    "        #  Delete this line when you implement the function\n",
    "        raise NotImplementedError\n",
    "\n",
    "\n",
    "    def gradient_descent(self, x, y, iter=60000, log=True):\n",
    "        '''\n",
    "        This function is an implementation of the gradient decent algorithm,\n",
    "        It is implemented for you.\n",
    "        '''\n",
    "        self.nInit()\n",
    "        for i in range(0, iter):\n",
    "            yh = self.forward(x)\n",
    "            loss = self.nloss(y, yh)\n",
    "            dLoss_W2, dLoss_b2, dLoss_W1, dLoss_b1 = self.backward(y, yh)\n",
    "            self.loss.append(loss)\n",
    "            if log:\n",
    "                if i % 2000 == 0: print(\"Loss after iteration %i: %f\" % (i, loss))\n",
    "        return\n",
    "\n",
    "    def predict(self, x):\n",
    "        '''\n",
    "        This function predicts new data points\n",
    "        It is implemented for you\n",
    "        '''\n",
    "        Yh = self.forward(x)\n",
    "        return np.round(Yh).squeeze()\n",
    "\n"
   ]
  },
  {
   "cell_type": "code",
   "execution_count": null,
   "metadata": {
    "id": "RbQBSALPx7A6",
    "outputId": "a7135954-b4b4-4a0d-8814-dfa3707dfdb1"
   },
   "outputs": [
    {
     "data": {
      "image/png": "[encoded data removed]",
      "text/plain": [
       "<Figure size 432x288 with 1 Axes>"
      ]
     },
     "metadata": {
      "needs_background": "light",
      "tags": []
     },
     "output_type": "display_data"
    }
   ],
   "source": [
    "# helper cell, no need to modify\n",
    "'''\n",
    "Training the Neural Network, you do not need to modify this cell\n",
    "We are going to use Breast Cancer Wisconsin (Diagnostic) Data Set provided by sklearn\n",
    "https://scikit-learn.org/stable/modules/generated/sklearn.datasets.load_breast_cancer.html\n",
    "'''\n",
    "dataset = load_breast_cancer() # load the dataset\n",
    "x, y = dataset.data, dataset.target\n",
    "x = MinMaxScaler().fit_transform(x) #normalize data\n",
    "x_train, x_test, y_train, y_test = train_test_split(x, y, random_state=1) #split data\n",
    "x_train, x_test, y_train, y_test = x_train.T, x_test.T, y_train.reshape(1,-1), y_test #condition data\n",
    "\n",
    "nn = dlnet(x_train,y_train,lr=0.1) # initalize neural net class\n",
    "nn.gradient_descent(x_train, y_train, iter = 66000) #train\n",
    "\n",
    "# create figure\n",
    "fig = plt.plot(np.array(nn.loss).squeeze())\n",
    "plt.title('Training')\n",
    "plt.xlabel(\"Epoch\")\n",
    "plt.ylabel(\"Loss\")\n",
    "plt.show()"
   ]
  },
  {
   "cell_type": "code",
   "execution_count": null,
   "metadata": {
    "id": "I2gJ6AVAx7A7"
   },
   "outputs": [],
   "source": [
    "# helper cell, do not need to modify\n",
    "'''\n",
    "Testing Neural Network with Gradient Descent, you do not need to modify this cell. \n",
    "'''\n",
    "y_predicted = nn.predict(x_test) # predict\n",
    "print(classification_report(y_test, y_predicted, target_names=dataset.target_names))"
   ]
  },
  {
   "cell_type": "markdown",
   "metadata": {
    "id": "JqGe1B4Ex7A7"
   },
   "source": [
    "## 4. Reinforcement Learning [Bonus] [12.5 pts] <span style=\"color:green\"> [P] + [W]<span>\n",
    "\n",
    "For this task we use another paradigm to solve the cartpole problem on OpenAI. For the question, **you're only required to implement the neural networks using pytorch and tune the hyperparameters for this experiment, the training logic and reinforcement learning implementation is already completed for you.**\n",
    "\n",
    "### A Brief Intro to RL\n",
    "\n",
    "Throughout the course we learned about two paradigms of machine learning, unsupervised and supervised. This question introduces a third category in machine learning called Reinforcement Learning (RL). RL is a type of machine learning technique that enables an agent to learn in an interactive environment by trial and error using feedback from its own actions and experiences. Just like supervised methods reinforcement learning  methods also learn the mapping between input and output, however, unlike supervised learning where the feedback provided to the agent is correct set of actions for performing a task, reinforcement learning uses rewards and punishments as signals for positive and negative behavior.\n",
    "\n",
    "While the goal in unsupervised learning is to find similarities and differences between data points, in the case of reinforcement learning the goal is to find a suitable action model that would maximize the **total cumulative reward** of the agent. The figure below illustrates the action-reward feedback loop of a generic RL model.\n",
    "\n",
    "![image.png](https://i.imgur.com/DKLakWc.png)\n",
    "\n",
    "Q-learning is a commonly used model-free approach which can be used for building such an agent. It revolves around the notion of updating Q values which denotes value of performing action a in state s. The following value update rule is the core of the Q-learning algorithm.\n",
    "\n",
    "![image-4.png](https://i.imgur.com/FsdHiEE.png)\n",
    "\n",
    "\n",
    "\n",
    "**For a deeper dive into how reinforcement learning works, you're required to read the paper [Human-level control through deep reinforcement\n",
    "learning](https://web.stanford.edu/class/psych209/Readings/MnihEtAlHassibis15NatureControlDeepRL.pdf).**\n",
    "\n",
    "### Solving Cartpole with Reinforcement Learning\n",
    "\n",
    "The task of this question is to solve the [Cartpole](https://gym.openai.com/envs/CartPole-v1/) problem on the OpenAI gym environment using reinforcement learning. You are given a simulated environment where a pole is attached by an un-actuated joint to a cart, which moves along a frictionless track. The system is controlled by applying a force of +1 or -1 to the cart. The pendulum starts upright, and the goal is to prevent it from falling over. A reward of +1 is provided for every timestep that the pole remains upright. The episode ends when the pole is more than 15 degrees from vertical, or the cart moves more than 2.4 units from the center.\n",
    "\n",
    "![Cartpole](https://i.imgur.com/dQ4xUp1.gif \"segment\")\n",
    "\n",
    "#### Setup\n",
    "\n",
    "This question requires two additional libraries for python, gym and torch, install them using the following command:\n",
    "\n",
    "```\n",
    "pip install gym torch\n",
    "```\n",
    "\n",
    "In case you face installation errors for the above command, you're recommended to use python 3.6 in a conda environment. You're also recommended to run this notebook locally on your computer rather than collab to be able to see how your agent performs playing Cartpole."
   ]
  },
  {
   "cell_type": "markdown",
   "metadata": {
    "id": "BDeU6otvx7A8"
   },
   "source": [
    "### 4.1 Creating The Neural Network Through PyTorch [3.5 pts] <span style=\"color:green\"> [P]<span>\n",
    "\n",
    "Refer to the pytorch docs for implementing specific pytorch functions in the following class:\n",
    "\n",
    "https://pytorch.org/docs/stable/nn.functional.html <br/>\n",
    "https://pytorch.org/docs/stable/generated/torch.nn.Linear.html\n",
    "    \n",
    "Code for submitting to autograder must be in **cartpole_net.py**."
   ]
  },
  {
   "cell_type": "code",
   "execution_count": null,
   "metadata": {
    "id": "F7R8gQ7Fx7A8"
   },
   "outputs": [],
   "source": [
    "import torch.nn as nn\n",
    "import torch.nn.functional as F\n",
    "import gym\n",
    "from itertools import chain\n",
    "\n",
    "'''\n",
    "This class represents the neural network module, you will implement pytorch functions that takes in\n",
    "a list of number of nodes in each layer and initialize the pytorch layers accordingly. You're also\n",
    "required to implement the forward propagation function as given in the description.\n",
    "\n",
    "Note: You do not need to concern with the dimensions of the torch tensors passed as parameters, \n",
    "simply implement the required torch functions.\n",
    "'''\n",
    "    \n",
    "class Net(nn.Module):\n",
    "\n",
    "    def __init__(self, layers):\n",
    "        # No need to modify, initialization done here\n",
    "        \n",
    "        super(Net, self).__init__()\n",
    "\n",
    "        # Create layers for the neural network\n",
    "        self.fc = self.create_layers(layers)\n",
    "        \n",
    "        for i in range(len(self.fc)):\n",
    "            self.__setattr__(str(i), self.fc[i])\n",
    "            \n",
    "    def create_layers(self, layers): # [1.5 pts]\n",
    "        \"\"\"\n",
    "        TODO:\n",
    "        Return a list of linear pytorch layers corresponding the the input parameter 'layers'\n",
    "        \n",
    "        Inputs:\n",
    "        layers: 1-D array that represents number of nodes in each layer \n",
    "        \n",
    "        return: List of linear pytorch layers, see https://pytorch.org/docs/stable/generated/torch.nn.Linear.html\n",
    "\n",
    "        \"\"\"\n",
    "        #  Delete this line when you implement the function\n",
    "        raise NotImplementedError\n",
    "    \n",
    "    \n",
    "    def forward(self, x): # [1.5 pts]\n",
    "        \"\"\"\n",
    "        TODO:\n",
    "        Return the output of the forward propagation of the neural network. Implement relu activations\n",
    "        for each layer defined in self.fc.\n",
    "        \n",
    "        Inputs:\n",
    "        x: Torch tensor containing inputs to the neural network\n",
    "        \n",
    "        return: The torch tensor as a result of the forward propagation output\n",
    "\n",
    "        \"\"\"\n",
    "        #  Delete this line when you implement the function\n",
    "        raise NotImplementedError\n",
    "    \n",
    "    def get_loss(self, pred, target): # [1 pts]\n",
    "        \"\"\"\n",
    "        TODO:\n",
    "        Compute the mse loss between predicted and target values.\n",
    "        \n",
    "        Inputs:\n",
    "        pred: Torch tensor containing output / prediction values\n",
    "        target: Torch tensor containing target values\n",
    "        \n",
    "        return: The torch tensor as a result of the forward propagation output\n",
    "\n",
    "        \"\"\"\n",
    "        #  Delete this line when you implement the function\n",
    "        raise NotImplementedError"
   ]
  },
  {
   "cell_type": "markdown",
   "metadata": {
    "id": "aUBAnQZHx7A9"
   },
   "source": [
    "### 4.2 Training the network and parameter tuning [9 pts] <span style=\"color:green\">[W]<span>\n",
    "\n",
    "Configure the parameters in the cell below to tune the training algorithm, after you train the algorithm the following cell runs the algorithm for 15 episodes and calculates the average cumulative reward. **To get credit for this question you are required to get an average of at least 150 on the test session. You will be awarded full credit for any score above 350**. The first person to get a score of 2000+ gets ice cream :)."
   ]
  },
  {
   "cell_type": "markdown",
   "metadata": {
    "id": "FP3uZ1Htx7A-"
   },
   "source": [
    "#### Hyperparameter tuning"
   ]
  },
  {
   "cell_type": "code",
   "execution_count": null,
   "metadata": {
    "id": "HYW45zqmx7A-"
   },
   "outputs": [],
   "source": [
    "\"\"\"\n",
    "TODO:\n",
    "Tune the given hyperparameters. You do not have to submit this in autograder.\n",
    "\"\"\"\n",
    "\n",
    "def getConfig():\n",
    "    \n",
    "    Gamma = 0.9                # Q-learning discount factor      Ideal range 0.9 ~ 0.99\n",
    "    Alpha = 0.01            # Learning rate,                  Ideal range 0.00005 ~ 0.0004\n",
    "    BatchSize = 3             # Training batch size,            Ideal range 10~50\n",
    "    \n",
    "    # Layers with lesser nodes might result in better training times\n",
    "    HiddenLayers = [150,100]   # Size of hidden layers of the network\n",
    "    \n",
    "    # Worst case, it shouldn't take you more than 2000 episodes to train your model\n",
    "    Episodes = 200            # Training episodes               \n",
    "\n",
    "    # The following parameters are ideal, however, you can change them to experiment with your results\n",
    "    Epsilon = [0.9, 0.05]      # Take random action with Epsilon probability, [start, end]\n",
    "    EpsilonDecay = 200         # Epsilon decay factor, higher the number slower the decay\n",
    "    MemorySize = 200           # Replay memory size\n",
    "    MemoryInitFill = 0.2       # Ratio of initial replay memory fill with random transitions \n",
    "    TargetUpdate = 10          # Update target network every 'x' intervals\n",
    "\n",
    "    return[Gamma, Alpha, Epsilon, EpsilonDecay, BatchSize, MemorySize,\n",
    "                    MemoryInitFill, TargetUpdate, HiddenLayers, Episodes]"
   ]
  },
  {
   "cell_type": "code",
   "execution_count": null,
   "metadata": {
    "id": "OnRyS_xRx7A-",
    "outputId": "8619255c-94e7-4f48-90fd-ba3d2f8d2dd7"
   },
   "outputs": [
    {
     "data": {
      "image/png": "[encoded data removed]",
      "text/plain": [
       "<Figure size 1080x360 with 3 Axes>"
      ]
     },
     "metadata": {
      "needs_background": "light",
      "tags": []
     },
     "output_type": "display_data"
    }
   ],
   "source": [
    "from cartpole import train, test\n",
    "\n",
    "# You can turn off render for faster training\n",
    "render = True\n",
    "m = train(getConfig(), Net, render)"
   ]
  },
  {
   "cell_type": "code",
   "execution_count": null,
   "metadata": {
    "id": "PKUDOEwox7A_",
    "outputId": "4e97d1ad-f9e3-4d1f-d7b2-2c4280178a95"
   },
   "outputs": [
    {
     "data": {
      "image/png": "[encoded data removed]",
      "text/plain": [
       "<Figure size 432x288 with 1 Axes>"
      ]
     },
     "metadata": {
      "needs_background": "light",
      "tags": []
     },
     "output_type": "display_data"
    },
    {
     "name": "stdout",
     "output_type": "stream",
     "text": [
      "Score: 742.4\n"
     ]
    }
   ],
   "source": [
    "test(m, render=True)"
   ]
  }
 ],
 "metadata": {
  "accelerator": "TPU",
  "colab": {
   "collapsed_sections": [],
   "name": "summer21_assignment4_review.ipynb",
   "provenance": []
  },
  "kernelspec": {
   "display_name": "Python 3",
   "language": "python",
   "name": "python3"
  },
  "language_info": {
   "codemirror_mode": {
    "name": "ipython",
    "version": 3
   },
   "file_extension": ".py",
   "mimetype": "text/x-python",
   "name": "python",
   "nbconvert_exporter": "python",
   "pygments_lexer": "ipython3",
   "version": "3.9.2"
  },
  "latex_envs": {
   "LaTeX_envs_menu_present": true,
   "autocomplete": true,
   "bibliofile": "biblio.bib",
   "cite_by": "apalike",
   "current_citInitial": 1,
   "eqLabelWithNumbers": true,
   "eqNumInitial": 1,
   "hotkeys": {
    "equation": "Ctrl-E",
    "itemize": "Ctrl-I"
   },
   "labels_anchors": false,
   "latex_user_defs": false,
   "report_style_numbering": false,
   "user_envs_cfg": false
  }
 },
 "nbformat": 4,
 "nbformat_minor": 1
}
